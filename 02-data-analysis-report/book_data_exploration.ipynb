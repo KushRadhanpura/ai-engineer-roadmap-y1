{
 "cells": [
  {
   "cell_type": "code",
   "execution_count": null,
   "id": "70c5e7f7",
   "metadata": {
    "ExecuteTime": {
     "end_time": "2025-10-16T06:41:23.383937Z",
     "start_time": "2025-10-16T06:41:23.101826Z"
    }
   },
   "outputs": [],
   "source": [
    "\n",
    "# 1. IMPORT LIBRARIES\n",
    "\n",
    "import pandas as pd\n",
    "import matplotlib.pyplot as plt\n",
    "import seaborn as sns\n",
    "\n",
    "print(\"Libraries imported successfully!\")\n",
    "\n",
    "\n",
    "# 2. LOAD THE DATASET\n",
    "df = pd.read_csv('books.csv', on_bad_lines='skip')\n",
    "print(\"Dataset loaded successfully.\")\n",
    "\n",
    "\n",
    "# 3. CLEAN THE DATA (THE FINAL FIX)\n",
    "\n",
    "\n",
    "prices_no_symbol = df['price'].str.replace('Â£', '')\n",
    "\n",
    "\n",
    "\n",
    "df['price'] = pd.to_numeric(prices_no_symbol, errors='coerce')\n",
    "print(\"'price' column has been successfully cleaned!\")\n",
    "\n",
    "\n",
    "# 4. VERIFY THE FIX\n",
    "\n",
    "print(\"\\n--- Data Info After Cleaning ---\")\n",
    "\n",
    "df.info()\n",
    "\n",
    "\n",
    "missing_prices = df['price'].isnull().sum()\n",
    "print(f\"\\nNumber of rows with missing/unconvertible prices: {missing_prices}\")\n",
    "\n",
    "\n",
    "print(\"\\n--- Cleaned Data Head ---\")\n",
    "display(df.head())"
   ]
  },
  {
   "cell_type": "code",
   "execution_count": null,
   "id": "281d1cc1",
   "metadata": {
    "ExecuteTime": {
     "end_time": "2025-10-16T06:43:10.021589Z",
     "start_time": "2025-10-16T06:43:09.465375Z"
    }
   },
   "outputs": [],
   "source": [
    "\n",
    "# 5. VISUALIZE THE DATA TO FIND INSIGHTS\n",
    "\n",
    "\n",
    "print(\"--- Creating Visualizations ---\")\n",
    "\n",
    "\n",
    "plt.figure(figsize=(18, 8))\n",
    "\n",
    "# Plot 1: What is the distribution of prices? \n",
    "plt.subplot(1, 2, 1) # (1 row, 2 columns, 1st plot)\n",
    "sns.histplot(df['price'], bins=30, kde=True)\n",
    "plt.title('Distribution of Book Prices', fontsize=16)\n",
    "plt.xlabel('Price (£)', fontsize=12)\n",
    "plt.ylabel('Number of Books', fontsize=12)\n",
    "\n",
    "#  Plot 2: Is there a relationship between rating and price? \n",
    "plt.subplot(1, 2, 2) \n",
    "rating_order = ['One', 'Two', 'Three', 'Four', 'Five']\n",
    "sns.boxplot(data=df, x='rating', y='price', order=rating_order)\n",
    "plt.title('Price Distribution by Book Rating', fontsize=16)\n",
    "plt.xlabel('Rating', fontsize=12)\n",
    "plt.ylabel('Price (£)', fontsize=12)\n",
    "\n",
    "\n",
    "plt.tight_layout()\n",
    "plt.show()\n",
    "\n",
    "#  Finding the Top 10 Most Expensive Books \n",
    "print(\"\\n--- Top 10 Most Expensive Books ---\")\n",
    "most_expensive_books = df.sort_values(by='price', ascending=False).head(10)\n",
    "display(most_expensive_books[['title', 'price', 'rating']])"
   ]
  },
  {
   "cell_type": "markdown",
   "id": "73e63b1f",
   "metadata": {},
   "source": [
    "## Database Integration & SQL Insights"
   ]
  },
  {
   "cell_type": "code",
   "execution_count": null,
   "id": "f6c213fb",
   "metadata": {},
   "outputs": [],
   "source": [
    "import pandas as pd\n",
    "import psycopg2 # Import the raw driver\n",
    "\n",
    "\n",
    "DB_USER = \"kushsoni\"\n",
    "DB_PASS = \"whitedevil999\" \n",
    "DB_HOST = \"localhost\"\n",
    "DB_NAME = \"bookstore_db\"\n",
    "# CRITICAL: This password has been removed for security before committing.\n",
    "DB_PASS = \"YOUR_PASSWORD_REMOVED\"\n",
    "\n",
    "\n",
    "sql_query = \"\"\"\n",
    "SELECT\n",
    "    rating,\n",
    "    COUNT(title) AS book_count,\n",
    "    ROUND(AVG(price)::numeric, 2) AS average_price\n",
    "FROM\n",
    "    books_data\n",
    "GROUP BY\n",
    "    rating\n",
    "ORDER BY\n",
    "    average_price DESC;\n",
    "\"\"\"\n",
    "\n",
    "try:\n",
    "    # 1. Establish a raw connection using the psycopg2 driver\n",
    "    conn = psycopg2.connect(\n",
    "        host=DB_HOST,\n",
    "        database=DB_NAME,\n",
    "        user=DB_USER,\n",
    "        password=DB_PASS\n",
    "    )\n",
    "\n",
    "    # 2. Pass the raw connection to pandas to execute the query\n",
    "    df_sql_insights = pd.read_sql(sql_query, con=conn)\n",
    "    \n",
    "    # 3. Close the connection\n",
    "    conn.close()\n",
    "\n",
    "    print(\"SQL Insights: Average Price and Count by Rating (from PostgreSQL)\")\n",
    "    print(df_sql_insights.to_markdown(index=False)) \n",
    "\n",
    "except Exception as e:\n",
    "    print(f\"ERROR connecting or querying the database: {e}\")\n",
    "    # This check is still useful in case of a table name error\n",
    "    print(\"Check: Is the table named 'books_data'?\")"
   ]
  }
 ],
 "metadata": {
  "kernelspec": {
   "display_name": "data_analysis",
   "language": "python",
   "name": "python3"
  },
  "language_info": {
   "codemirror_mode": {
    "name": "ipython",
    "version": 3
   },
   "file_extension": ".py",
   "mimetype": "text/x-python",
   "name": "python",
   "nbconvert_exporter": "python",
   "pygments_lexer": "ipython3",
   "version": "3.10.18"
  }
 },
 "nbformat": 4,
 "nbformat_minor": 5
}
