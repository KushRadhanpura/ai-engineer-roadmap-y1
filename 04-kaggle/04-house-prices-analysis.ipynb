{
 "cells": [
  {
   "cell_type": "code",
   "execution_count": 18,
   "id": "1fe34437",
   "metadata": {},
   "outputs": [],
   "source": [
    "import numpy as np\n",
    "import pandas as pd \n",
    "from sklearn.model_selection import train_test_split,cross_val_score\n",
    "from sklearn.preprocessing import StandardScaler,OneHotEncoder\n",
    "from sklearn.impute import SimpleImputer\n",
    "from sklearn.compose import ColumnTransformer\n",
    "from sklearn.pipeline import Pipeline\n",
    "from sklearn.linear_model import LinearRegression,Ridge,Lasso\n",
    "from sklearn.neighbors import KNeighborsRegressor\n",
    "from sklearn.metrics import mean_squared_error,make_scorer\n",
    "\n",
    "\n",
    "df_train= pd.read_csv(\"train.csv\")\n",
    "\n",
    "y= df_train[\"SalePrice\"]\n",
    "x=df_train.drop(['SalePrice','Id'],axis=1)\n",
    "\n",
    "y_logged= np.log1p(y)\n",
    "x_train,x_test,y_train_log,y_test_log = train_test_split(x,y_logged,test_size=0.2,random_state=42)\n"
   ]
  },
  {
   "cell_type": "code",
   "execution_count": 19,
   "id": "b297b309",
   "metadata": {},
   "outputs": [],
   "source": [
    "numeric_features=x_train.select_dtypes(include=np.number).columns\n",
    "categorical_features=x_train.select_dtypes(include=['object']).columns\n",
    "\n",
    "numeric_pipeline=Pipeline(steps=[\n",
    "    ('imputer',SimpleImputer(strategy='median')),\n",
    "    ('scaler',StandardScaler())\n",
    "])\n",
    "\n",
    "categorical_pipeline=Pipeline(steps=[\n",
    "    ('imputer',SimpleImputer(strategy='constant',fill_value='None')),\n",
    "    ('onehot',OneHotEncoder(handle_unknown='ignore'))\n",
    "])\n",
    "preprocessor=ColumnTransformer(\n",
    "    transformers=[\n",
    "        ('num',numeric_pipeline,numeric_features),\n",
    "        ('cat',categorical_pipeline,categorical_features),\n",
    "    ],\n",
    "    remainder='passthrough'\n",
    ")\n"
   ]
  },
  {
   "cell_type": "code",
   "execution_count": 26,
   "id": "106b8c3b",
   "metadata": {},
   "outputs": [
    {
     "name": "stdout",
     "output_type": "stream",
     "text": [
      "Linear Regression CV RMSLE: 0.1600 (+/- 0.0118)\n",
      "K-Neighbors CV RMSLE: 0.1739 (+/- 0.0208)\n"
     ]
    }
   ],
   "source": [
    "def log_rmse_scorer(y_true_log, y_pred_log):\n",
    "    return np.sqrt(mean_squared_error(y_true_log, y_pred_log))\n",
    "\n",
    "linear_pipeline=Pipeline(steps=[\n",
    "    ('preprocessor',preprocessor),\n",
    "    ('regressor',LinearRegression())])\n",
    "\n",
    "knn_pipeline=Pipeline(steps=[\n",
    "    ('preprocessor',preprocessor),\n",
    "    ('regressor',KNeighborsRegressor())])\n",
    "\n",
    "\n",
    "lin_scores=cross_val_score(linear_pipeline,x_train,y_train_log,\n",
    "                           scoring=make_scorer(log_rmse_scorer,greater_is_better=False),cv=5,n_jobs=-1)\n",
    "knn_scores=cross_val_score(knn_pipeline,x_train,y_train_log,\n",
    "                           scoring=make_scorer(log_rmse_scorer,greater_is_better=False),cv=5,n_jobs=-1)\n",
    "\n",
    "\n",
    "print(f\"Linear Regression CV RMSLE: {-lin_scores.mean():.4f} (+/- {lin_scores.std():.4f})\")\n",
    "print(f\"K-Neighbors CV RMSLE: {-knn_scores.mean():.4f} (+/- {knn_scores.std():.4f})\")\n"
   ]
  },
  {
   "cell_type": "code",
   "execution_count": 22,
   "id": "f98222f9",
   "metadata": {},
   "outputs": [],
   "source": [
    "from sklearn.ensemble import RandomForestRegressor\n",
    "from sklearn.model_selection import KFold\n",
    "\n",
    "lasso_pipeline=Pipeline(steps=[\n",
    "    ('preprocessor',preprocessor),\n",
    "    ('regressor',Lasso(alpha=0.0005,max_iter=1000,random_state=42))\n",
    "])\n",
    "ridge_pipeline=Pipeline(steps=[\n",
    "    ('preprocessor',preprocessor),\n",
    "    ('regressor',Ridge(alpha=10.0,random_state=42))\n",
    "])\n",
    "\n",
    "rf_pipeline=Pipeline(steps=[\n",
    "    ('preprocessor',preprocessor),\n",
    "    ('regressor',RandomForestRegressor(n_estimators=100,random_state=42))\n",
    "])"
   ]
  },
  {
   "cell_type": "code",
   "execution_count": 27,
   "id": "65f1a336",
   "metadata": {},
   "outputs": [
    {
     "name": "stdout",
     "output_type": "stream",
     "text": [
      "Lasso Regression CV RMSLE: 0.1408 (+/- 0.0334)\n",
      "Ridge Regression CV RMSLE: 0.1426 (+/- 0.0292)\n",
      "Random Forest CV RMSLE: 0.1481 (+/- 0.0159)\n"
     ]
    }
   ],
   "source": [
    "kfold=KFold(n_splits=5,shuffle=True,random_state=42)\n",
    "lasso_scores=cross_val_score(lasso_pipeline,x_train,y_train_log,\n",
    "                            scoring=make_scorer(log_rmse_scorer,greater_is_better=False),cv=kfold,n_jobs=-1)\n",
    "ridge_scores=cross_val_score(ridge_pipeline,x_train,y_train_log,\n",
    "                             scoring=make_scorer(log_rmse_scorer,greater_is_better=False),cv=kfold,n_jobs=-1)\n",
    "rf_scores=cross_val_score(rf_pipeline,x_train,y_train_log,\n",
    "                            scoring=make_scorer(log_rmse_scorer,greater_is_better=False),cv=kfold,n_jobs=-1)\n",
    "print(f\"Lasso Regression CV RMSLE: {-lasso_scores.mean():.4f} (+/- {lasso_scores.std():.4f})\")\n",
    "print(f\"Ridge Regression CV RMSLE: {-ridge_scores.mean():.4f} (+/- {ridge_scores.std():.4f})\")\n",
    "print(f\"Random Forest CV RMSLE: {-rf_scores.mean():.4f} (+/- {rf_scores.std():.4f})\")"
   ]
  },
  {
   "cell_type": "code",
   "execution_count": 28,
   "id": "87f3a7dd",
   "metadata": {},
   "outputs": [
    {
     "name": "stdout",
     "output_type": "stream",
     "text": [
      "Fitting 5 folds for each of 27 candidates, totalling 135 fits\n",
      "--- Hyperparameter Tuning Complete ---\n",
      "Best Parameters Found: {'regressor__max_depth': 20, 'regressor__min_samples_split': 2, 'regressor__n_estimators': 50}\n",
      "Final Tuned Model RMSLE on Held-out Test Data: 0.1471\n",
      "--- Hyperparameter Tuning Complete ---\n",
      "Best Parameters Found: {'regressor__max_depth': 20, 'regressor__min_samples_split': 2, 'regressor__n_estimators': 50}\n",
      "Final Tuned Model RMSLE on Held-out Test Data: 0.1471\n"
     ]
    }
   ],
   "source": [
    "from sklearn.model_selection import GridSearchCV\n",
    "\n",
    "param_grid = {\n",
    "    'regressor__n_estimators': [50, 100, 200],\n",
    "    'regressor__max_depth': [10, 20, None],\n",
    "    'regressor__min_samples_split': [2, 5, 10]\n",
    "}\n",
    "\n",
    "grid_search = GridSearchCV(estimator=rf_pipeline, param_grid=param_grid, \n",
    "                           scoring=make_scorer(log_rmse_scorer, greater_is_better=False), \n",
    "                           cv=kfold, n_jobs=-1, verbose=1)\n",
    "\n",
    "grid_search.fit(x_train, y_train_log)\n",
    "\n",
    "\n",
    "print(\"--- Hyperparameter Tuning Complete ---\")\n",
    "print(f\"Best Parameters Found: {grid_search.best_params_}\")\n",
    "\n",
    "best_tuned_model = grid_search.best_estimator_\n",
    "y_pred_log = best_tuned_model.predict(x_test)\n",
    "final_test_rmsle = log_rmse_scorer(y_test_log, y_pred_log)\n",
    "print(f\"Final Tuned Model RMSLE on Held-out Test Data: {final_test_rmsle:.4f}\")"
   ]
  },
  {
   "cell_type": "markdown",
   "id": "7c74b4d8",
   "metadata": {},
   "source": []
  }
 ],
 "metadata": {
  "kernelspec": {
   "display_name": "Python (Month 4 ML Gauntlet)",
   "language": "python",
   "name": "month4_ml_env"
  },
  "language_info": {
   "codemirror_mode": {
    "name": "ipython",
    "version": 3
   },
   "file_extension": ".py",
   "mimetype": "text/x-python",
   "name": "python",
   "nbconvert_exporter": "python",
   "pygments_lexer": "ipython3",
   "version": "3.13.5"
  }
 },
 "nbformat": 4,
 "nbformat_minor": 5
}
